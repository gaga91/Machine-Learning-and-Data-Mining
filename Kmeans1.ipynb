{
 "cells": [
  {
   "cell_type": "code",
   "execution_count": null,
   "metadata": {},
   "outputs": [],
   "source": [
    "#To create Pandas DataFrame in Python, you can follow this generic template:\n",
    "import pandas as pd\n",
    "\n",
    "data = {'First Column Name':  ['First value', 'Second value',...],\n",
    "        'Second Column Name': ['First value', 'Second value',...],\n",
    "         ....\n",
    "        }\n",
    "\n",
    "df = pd.DataFrame (data, columns = ['First Column Name','Second Column Name',...])\n",
    "\n",
    "print (df)"
   ]
  },
  {
   "cell_type": "code",
   "execution_count": null,
   "metadata": {},
   "outputs": [],
   "source": [
    "#Let us create the data in Python using pandas DataFrame"
   ]
  },
  {
   "cell_type": "code",
   "execution_count": 2,
   "metadata": {},
   "outputs": [
    {
     "name": "stdout",
     "output_type": "stream",
     "text": [
      "     x   y\n",
      "0   25  79\n",
      "1   34  51\n",
      "2   22  53\n",
      "3   27  78\n",
      "4   33  59\n",
      "5   33  74\n",
      "6   31  73\n",
      "7   22  57\n",
      "8   35  69\n",
      "9   34  75\n",
      "10  67  51\n",
      "11  54  32\n",
      "12  57  40\n",
      "13  43  47\n",
      "14  50  53\n",
      "15  57  36\n",
      "16  59  35\n",
      "17  52  58\n",
      "18  65  59\n",
      "19  47  50\n",
      "20  49  25\n",
      "21  48  20\n",
      "22  35  14\n",
      "23  33  12\n",
      "24  44  20\n",
      "25  45   5\n",
      "26  38  29\n",
      "27  43  27\n",
      "28  51   8\n",
      "29  46   7\n"
     ]
    }
   ],
   "source": [
    "from pandas import DataFrame\n",
    "\n",
    "Data = {'x': [25,34,22,27,33,33,31,22,35,34,67,54,57,43,50,57,59,52,65,47,49,48,35,33,44,45,38,43,51,46],\n",
    "        'y': [79,51,53,78,59,74,73,57,69,75,51,32,40,47,53,36,35,58,59,50,25,20,14,12,20,5,29,27,8,7]\n",
    "       }\n",
    "  \n",
    "df = DataFrame(Data,columns=['x','y'])\n",
    "print (df)"
   ]
  },
  {
   "cell_type": "code",
   "execution_count": 4,
   "metadata": {},
   "outputs": [],
   "source": [
    "import matplotlib.pyplot as plt\n",
    "from sklearn.cluster import KMeans # for applying the K-Means Clustering in Python\n"
   ]
  },
  {
   "cell_type": "code",
   "execution_count": null,
   "metadata": {},
   "outputs": [],
   "source": [
    "# you can specify the number of clusters \n",
    "#firstly, we assign 3 clusters, i.e. KMeans(n_clusters=3).fit(df)"
   ]
  },
  {
   "cell_type": "markdown",
   "metadata": {},
   "source": [
    "Method 'fit(X, y=None, sample_weight=None)' compute k-means clustering.\n",
    "X {array-like, sparse matrix} of shape (n_samples, n_features) training instances to cluster. \n",
    "Y Ignored not used, present here for API consistency by convention."
   ]
  },
  {
   "cell_type": "markdown",
   "metadata": {},
   "source": [
    "Attribute 'cluster_centers_ndarray of shape (n_clusters, n_features)' returns coordinates of cluster centers. "
   ]
  },
  {
   "cell_type": "code",
   "execution_count": 5,
   "metadata": {},
   "outputs": [
    {
     "name": "stdout",
     "output_type": "stream",
     "text": [
      "[[43.2 16.7]\n",
      " [29.6 66.8]\n",
      " [55.1 46.1]]\n"
     ]
    }
   ],
   "source": [
    "kmeans = KMeans(n_clusters=3).fit(df)\n",
    "centroids = kmeans.cluster_centers_\n",
    "print(centroids)\n"
   ]
  },
  {
   "cell_type": "code",
   "execution_count": null,
   "metadata": {},
   "outputs": [],
   "source": [
    "'plt.scatter' scatters plot of y vs. x with varying marker size and/or color."
   ]
  },
  {
   "cell_type": "code",
   "execution_count": 8,
   "metadata": {},
   "outputs": [
    {
     "data": {
      "image/png": "[encoded data removed]",
      "text/plain": [
       "<Figure size 432x288 with 1 Axes>"
      ]
     },
     "metadata": {
      "needs_background": "light"
     },
     "output_type": "display_data"
    }
   ],
   "source": [
    "plt.scatter(df['x'], df['y'], c= kmeans.labels_.astype(float), s=70, alpha=0.5)\n",
    "plt.scatter(centroids[:, 0], centroids[:, 1], c='red', s=130)\n",
    "plt.show()"
   ]
  },
  {
   "cell_type": "code",
   "execution_count": null,
   "metadata": {},
   "outputs": [],
   "source": [
    "#Note that the center of each cluster (in red) represents the mean of all the observations that belong to that cluster."
   ]
  },
  {
   "cell_type": "code",
   "execution_count": null,
   "metadata": {},
   "outputs": [],
   "source": [
    "#What would happen if you use 4 clusters instead?\n",
    "#KMeans(n_clusters=4).fit(df)"
   ]
  },
  {
   "cell_type": "code",
   "execution_count": 10,
   "metadata": {},
   "outputs": [
    {
     "name": "stdout",
     "output_type": "stream",
     "text": [
      "[[55.1        46.1       ]\n",
      " [43.2        16.7       ]\n",
      " [30.83333333 74.66666667]\n",
      " [27.75       55.        ]]\n"
     ]
    },
    {
     "data": {
      "image/png": "[encoded data removed]",
      "text/plain": [
       "<Figure size 432x288 with 1 Axes>"
      ]
     },
     "metadata": {
      "needs_background": "light"
     },
     "output_type": "display_data"
    }
   ],
   "source": [
    "from pandas import DataFrame\n",
    "import matplotlib.pyplot as plt\n",
    "from sklearn.cluster import KMeans\n",
    "\n",
    "Data = {'x': [25,34,22,27,33,33,31,22,35,34,67,54,57,43,50,57,59,52,65,47,49,48,35,33,44,45,38,43,51,46],\n",
    "        'y': [79,51,53,78,59,74,73,57,69,75,51,32,40,47,53,36,35,58,59,50,25,20,14,12,20,5,29,27,8,7]\n",
    "       }\n",
    "  \n",
    "df = DataFrame(Data,columns=['x','y'])\n",
    "  \n",
    "kmeans = KMeans(n_clusters=4).fit(df)\n",
    "centroids = kmeans.cluster_centers_\n",
    "print(centroids)\n",
    "\n",
    "plt.scatter(df['x'], df['y'], c= kmeans.labels_.astype(float), s=50, alpha=0.5)\n",
    "plt.scatter(centroids[:, 0], centroids[:, 1], c='red', s=50)\n",
    "plt.show()"
   ]
  },
  {
   "cell_type": "markdown",
   "metadata": {},
   "source": [
    "create a Graphical User Interface (GUI) in Python using tkinter\n",
    "\n",
    "\n",
    "Canvas screen, where you can place items, such as labels and buttons\n",
    "Labels to display text on top of the Canvas\n",
    "Entry Boxes to allow users type values\n",
    "Functions to display Bar and Pie charts\n",
    "Buttons to trigger the functions and exit the application\n"
   ]
  },
  {
   "cell_type": "markdown",
   "metadata": {},
   "source": [
    "\n",
    "The Canvas is your GUI screen in which you can place items, such as buttons, labels, entry boxes and more. \n",
    "You can control the dimensions of the Canvas by changing the width and height values.\n",
    "Labels can be used to print text on top of the Canvas. \n",
    "You can control the position of the label by modifying the coordinates in 'canvas1.create_window(400, 50, window=label1)'.\n",
    "The Button widget is used to add buttons in a Python application. \n",
    "\n",
    "'root = Tk()' means that the root window is created. The root window is a main application window in our programs. It has a title bar and borders.\n",
    "Creating an instance of Tk initializes this interpreter and creates the root window. \n",
    "\n",
    "'get_tk_widget().pack()' organizes widgets in blocks before placing them in the parent widget."
   ]
  },
  {
   "cell_type": "code",
   "execution_count": 11,
   "metadata": {},
   "outputs": [],
   "source": [
    "from pandas import DataFrame\n",
    "import matplotlib.pyplot as plt\n",
    "from sklearn.cluster import KMeans\n",
    "import tkinter as tk\n",
    "from matplotlib.backends.backend_tkagg import FigureCanvasTkAgg\n",
    "\n",
    "Data = {'x': [25,34,22,27,33,33,31,22,35,34,67,54,57,43,50,57,59,52,65,47,49,48,35,33,44,45,38,43,51,46],\n",
    "        'y': [79,51,53,78,59,74,73,57,69,75,51,32,40,47,53,36,35,58,59,50,25,20,14,12,20,5,29,27,8,7]\n",
    "       }\n",
    "  \n",
    "df = DataFrame(Data,columns=['x','y'])\n",
    "  \n",
    "kmeans = KMeans(n_clusters=3).fit(df)\n",
    "centroids = kmeans.cluster_centers_\n",
    "\n",
    "root= tk.Tk()\n",
    "\n",
    "canvas1 = tk.Canvas(root, width = 100, height = 100)\n",
    "canvas1.pack()\n",
    "\n",
    "label1 = tk.Label(root, text=centroids, justify = 'center')\n",
    "canvas1.create_window(70, 50, window=label1)\n",
    "\n",
    "figure1 = plt.Figure(figsize=(5,4), dpi=100)\n",
    "ax1 = figure1.add_subplot(111)\n",
    "ax1.scatter(df['x'], df['y'], c= kmeans.labels_.astype(float), s=50, alpha=0.5)\n",
    "ax1.scatter(centroids[:, 0], centroids[:, 1], c='red', s=50)\n",
    "scatter1 = FigureCanvasTkAgg(figure1, root) \n",
    "scatter1.get_tk_widget().pack(side=tk.LEFT, fill=tk.BOTH)\n",
    "\n",
    "root.mainloop()"
   ]
  },
  {
   "cell_type": "markdown",
   "metadata": {},
   "source": [
    "'tk.Entry ' boxes are used to collect information from the user. That information will then be used to create the matplotlib charts."
   ]
  },
  {
   "cell_type": "code",
   "execution_count": 14,
   "metadata": {},
   "outputs": [],
   "source": [
    "import tkinter as tk\n",
    "from tkinter import filedialog\n",
    "import pandas as pd\n",
    "from pandas import DataFrame\n",
    "import matplotlib.pyplot as plt\n",
    "from sklearn.cluster import KMeans\n",
    "from matplotlib.backends.backend_tkagg import FigureCanvasTkAgg\n",
    "\n",
    "root= tk.Tk()\n",
    "\n",
    "canvas1 = tk.Canvas(root, width = 400, height = 300,  relief = 'raised')\n",
    "canvas1.pack()\n",
    "\n",
    "label1 = tk.Label(root, text='k-Means Clustering')\n",
    "label1.config(font=('helvetica', 14))\n",
    "canvas1.create_window(200, 25, window=label1)\n",
    "\n",
    "label2 = tk.Label(root, text='Type Number of Clusters:')\n",
    "label2.config(font=('helvetica', 8))\n",
    "canvas1.create_window(200, 120, window=label2)\n",
    "\n",
    "entry1 = tk.Entry (root) \n",
    "canvas1.create_window(200, 140, window=entry1)\n",
    "\n",
    "def getKMeans ():\n",
    "    global df\n",
    "    global numberOfClusters\n",
    "    numberOfClusters = int(entry1.get())\n",
    "    \n",
    "    kmeans = KMeans(n_clusters=numberOfClusters).fit(df)\n",
    "    centroids = kmeans.cluster_centers_\n",
    "    \n",
    "    label3 = tk.Label(root, text= centroids)\n",
    "    canvas1.create_window(200, 250, window=label3)\n",
    "    \n",
    "    figure1 = plt.Figure(figsize=(4,3), dpi=100)\n",
    "    ax1 = figure1.add_subplot(111)\n",
    "    ax1.scatter(df['x'], df['y'], c= kmeans.labels_.astype(float), s=50, alpha=0.5)\n",
    "    ax1.scatter(centroids[:, 0], centroids[:, 1], c='red', s=50)\n",
    "    scatter1 = FigureCanvasTkAgg(figure1, root) \n",
    "    scatter1.get_tk_widget().pack(side=tk.RIGHT, fill=tk.BOTH)\n",
    "    \n",
    "processButton = tk.Button(text=' Process k-Means ', command=getKMeans, bg='brown', fg='white', font=('helvetica', 10, 'bold'))\n",
    "canvas1.create_window(200, 170, window=processButton)\n",
    "\n",
    "root.mainloop()"
   ]
  },
  {
   "cell_type": "code",
   "execution_count": null,
   "metadata": {},
   "outputs": [],
   "source": []
  }
 ],
 "metadata": {
  "kernelspec": {
   "display_name": "Python 3",
   "language": "python",
   "name": "python3"
  },
  "language_info": {
   "codemirror_mode": {
    "name": "ipython",
    "version": 3
   },
   "file_extension": ".py",
   "mimetype": "text/x-python",
   "name": "python",
   "nbconvert_exporter": "python",
   "pygments_lexer": "ipython3",
   "version": "3.7.3"
  }
 },
 "nbformat": 4,
 "nbformat_minor": 2
}
