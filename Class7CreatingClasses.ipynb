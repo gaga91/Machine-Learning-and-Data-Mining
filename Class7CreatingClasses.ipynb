{
 "cells": [
  {
   "cell_type": "code",
   "execution_count": null,
   "metadata": {},
   "outputs": [],
   "source": [
    "class ClassName:\n",
    "\n",
    "\n",
    "   'Optional class documentation string'\n",
    "   \n",
    "   \n",
    "   class_suite"
   ]
  },
  {
   "cell_type": "code",
   "execution_count": 1,
   "metadata": {},
   "outputs": [
    {
     "name": "stdout",
     "output_type": "stream",
     "text": [
      "The new vehicle is made!\n"
     ]
    }
   ],
   "source": [
    "#__init__()\n",
    "class Vehicle:\n",
    "    def __init__(self):\n",
    "        print('The new vehicle is made!')\n",
    "vehicle1=Vehicle()       "
   ]
  },
  {
   "cell_type": "code",
   "execution_count": 3,
   "metadata": {},
   "outputs": [
    {
     "name": "stdout",
     "output_type": "stream",
     "text": [
      "The new vehicle is made with the registration number BG-123-AB!\n",
      "Vehicle: BG-123-AB\n"
     ]
    }
   ],
   "source": [
    "class Vehicle:\n",
    "    def __init__(self, registration_number):\n",
    "        print('The new vehicle is made with the registration number {}!'.format(registration_number))\n",
    "        self.registration_number = registration_number\n",
    "        \n",
    "    def __str__(self): # The method returns the string that is printed when the object is printed (toString method in other languages)\n",
    "        return 'Vehicle: {}'.format(self.registration_number)\n",
    "        \n",
    "vehicle1 = Vehicle('BG-123-AB')\n",
    "print(vehicle1)"
   ]
  },
  {
   "cell_type": "code",
   "execution_count": 4,
   "metadata": {},
   "outputs": [
    {
     "name": "stdout",
     "output_type": "stream",
     "text": [
      "The new vehicle is made with the registration number BG-123-AB!\n",
      "Vehicle: BG-123-AB\n",
      "BG-234-BC\n"
     ]
    }
   ],
   "source": [
    "class Vehicle:\n",
    "    def __init__(self, registration_number):\n",
    "        print('The new vehicle is made with the registration number {}!'.format(registration_number))\n",
    "        self.registration_number = registration_number\n",
    "        \n",
    "    def __str__(self): # The method returns the string that is printed when the object is printed (toString method in other languages)\n",
    "        return 'Vehicle: {}'.format(self.registration_number)\n",
    "    \n",
    "    def get_registration_number(self): \n",
    "        return self.registration_number\n",
    "    \n",
    "    def set_registration_number(self, new_registration_number):\n",
    "        self.registration_number = new_registration_number\n",
    "        \n",
    "vehicle1 = Vehicle('BG-123-AB')\n",
    "print(vehicle1)\n",
    "vehicle1.set_registration_number('BG-234-BC') # Call setter\n",
    "print(vehicle1.get_registration_number()) # Call getter"
   ]
  },
  {
   "cell_type": "code",
   "execution_count": 5,
   "metadata": {},
   "outputs": [
    {
     "name": "stdout",
     "output_type": "stream",
     "text": [
      "The new vehicle is made with the registration number BG-123-AB!\n",
      "None\n"
     ]
    }
   ],
   "source": [
    "class Vehicle:\n",
    "    def __init__(self, registration_number):\n",
    "        print('The new vehicle is made with the registration number {}!'.format(registration_number))\n",
    "        self.registration_number = registration_number\n",
    "        \n",
    "    def __str__(self): # The method returns the string that is printed when the object is printed (toString method in other languages)\n",
    "        return 'Vehicle: {}'.format(self.registration_number)\n",
    "#You access the object's attributes using the dot operator with object. Class variable would be accessed using class name as follows     \n",
    "    def get_registration_number(self): \n",
    "        return self.registration_number\n",
    "    \n",
    "    def set_registration_number(self, new_registration_number):\n",
    "        self.registration_number = new_registration_number\n",
    "        \n",
    "      \n",
    "    # Virtual method\n",
    "    def return_type_of_vehicle(self):\n",
    "        pass\n",
    "        \n",
    "vehicle1 = Vehicle('BG-123-AB')\n",
    "print(vehicle1.return_type_of_vehicle())"
   ]
  },
  {
   "cell_type": "code",
   "execution_count": 12,
   "metadata": {},
   "outputs": [
    {
     "name": "stdout",
     "output_type": "stream",
     "text": [
      "The new vehicle is made with the registration number BG-123-AB!\n",
      "None\n",
      "The new vehicle is made with the registration number BG-232-BG!\n",
      "Car\n",
      "2\n"
     ]
    }
   ],
   "source": [
    "class Vehicle:\n",
    "    \n",
    "    numberOfVehicles=0 #statistical variable\n",
    "    def __init__(self, registration_number):\n",
    "        print('The new vehicle is made with the registration number {}!'.format(registration_number))\n",
    "        self.registration_number = registration_number\n",
    "        Vehicle.numberOfVehicles+=1\n",
    "        \n",
    "    def __str__(self): # The method returns the string that is printed when the object is printed (toString method in other languages)\n",
    "        return 'Vehicle: {}'.format(self.registration_number)\n",
    "    \n",
    "    def get_registration_number(self): \n",
    "        return self.registration_number\n",
    "    \n",
    "    def set_registration_number(self, new_registration_number):\n",
    "        self.registration_number = new_registration_number\n",
    "        \n",
    "    # Virtual method\n",
    "    def return_type_of_vehicle(self):\n",
    "        pass\n",
    "\n",
    "# If a class inherits another class, the inherited class is indicated in parentheses when declaring the subclass\n",
    "class Car(Vehicle): # The class 'Car' inherits the class 'Vehicle'\n",
    "    def __init__(self, registration_number):\n",
    "        super().__init__(registration_number)\n",
    "        self.type_of_vehicle = 'Car'\n",
    "        \n",
    "    def return_type_of_vehicle(self):\n",
    "        return self.type_of_vehicle\n",
    "        \n",
    "vehicle1 = Vehicle('BG-123-AB')\n",
    "print(vehicle1.return_type_of_vehicle())\n",
    "auto1=Car('BG-232-BG')\n",
    "print(auto1.return_type_of_vehicle())\n",
    "print(auto1.numberOfVehicles)\n"
   ]
  },
  {
   "cell_type": "code",
   "execution_count": 16,
   "metadata": {},
   "outputs": [
    {
     "name": "stdout",
     "output_type": "stream",
     "text": [
      "Name :  Zara , Salary:  4577\n",
      "Name :  HM , Salary:  2000\n",
      "Total Employee 2\n"
     ]
    }
   ],
   "source": [
    "class Employee:\n",
    "   'Common base class for all employees'\n",
    "   empCount = 0\n",
    "\n",
    "   def __init__(self, name, salary):\n",
    "      self.name = name\n",
    "      self.salary = salary\n",
    "      Employee.empCount += 1\n",
    "   \n",
    "   def displayCount(self):\n",
    "     print (\"Total Employee %d\" % Employee.empCount)\n",
    "\n",
    "   def displayEmployee(self):\n",
    "      print (\"Name : \", self.name,  \", Salary: \", self.salary)\n",
    "\n",
    "emp1=Employee(\"Zara\", 4577)   \n",
    "emp2 = Employee(\"HM\", 2000)\n",
    "emp1.displayEmployee()\n",
    "emp2.displayEmployee()\n",
    "print (\"Total Employee %d\" % Employee.empCount)"
   ]
  },
  {
   "cell_type": "markdown",
   "metadata": {},
   "source": [
    "emp1.age = 7  # Add an 'age' attribute.\n",
    "emp1.age = 8  # Modify 'age' attribute.\n",
    "del emp1.age  # Delete 'age' attribute.\n",
    "\n",
    "\n",
    "hasattr(emp1, 'age')    # Returns true if 'age' attribute exists\n",
    "getattr(emp1, 'age')    # Returns value of 'age' attribute\n",
    "setattr(emp1, 'age', 8) # Set attribute 'age' at 8\n",
    "delattr(empl, 'age')    # Delete attribute 'age'"
   ]
  },
  {
   "cell_type": "code",
   "execution_count": 17,
   "metadata": {},
   "outputs": [],
   "source": [
    "emp1.age = 7  # Add an 'age' attribute."
   ]
  },
  {
   "cell_type": "code",
   "execution_count": 18,
   "metadata": {},
   "outputs": [
    {
     "data": {
      "text/plain": [
       "True"
      ]
     },
     "execution_count": 18,
     "metadata": {},
     "output_type": "execute_result"
    }
   ],
   "source": [
    "hasattr(emp1, 'age') "
   ]
  },
  {
   "cell_type": "code",
   "execution_count": 19,
   "metadata": {},
   "outputs": [
    {
     "data": {
      "text/plain": [
       "7"
      ]
     },
     "execution_count": 19,
     "metadata": {},
     "output_type": "execute_result"
    }
   ],
   "source": [
    "getattr(emp1, 'age')   "
   ]
  },
  {
   "cell_type": "code",
   "execution_count": 20,
   "metadata": {},
   "outputs": [],
   "source": [
    "setattr(emp1, 'age', 8) "
   ]
  },
  {
   "cell_type": "code",
   "execution_count": 21,
   "metadata": {},
   "outputs": [
    {
     "data": {
      "text/plain": [
       "8"
      ]
     },
     "execution_count": 21,
     "metadata": {},
     "output_type": "execute_result"
    }
   ],
   "source": [
    "getattr(emp1, 'age')"
   ]
  },
  {
   "cell_type": "code",
   "execution_count": 23,
   "metadata": {},
   "outputs": [],
   "source": [
    "delattr(emp1, 'age')  "
   ]
  },
  {
   "cell_type": "code",
   "execution_count": 24,
   "metadata": {},
   "outputs": [
    {
     "data": {
      "text/plain": [
       "False"
      ]
     },
     "execution_count": 24,
     "metadata": {},
     "output_type": "execute_result"
    }
   ],
   "source": [
    "hasattr(emp1, 'age') "
   ]
  },
  {
   "cell_type": "code",
   "execution_count": null,
   "metadata": {},
   "outputs": [],
   "source": []
  }
 ],
 "metadata": {
  "kernelspec": {
   "display_name": "Python 3",
   "language": "python",
   "name": "python3"
  },
  "language_info": {
   "codemirror_mode": {
    "name": "ipython",
    "version": 3
   },
   "file_extension": ".py",
   "mimetype": "text/x-python",
   "name": "python",
   "nbconvert_exporter": "python",
   "pygments_lexer": "ipython3",
   "version": "3.7.3"
  }
 },
 "nbformat": 4,
 "nbformat_minor": 2
}
