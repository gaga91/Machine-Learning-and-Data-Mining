{
 "cells": [
  {
   "cell_type": "code",
   "execution_count": null,
   "metadata": {},
   "outputs": [],
   "source": [
    "#NumPy is very useful for performing mathematical and logical operations on arrays, but also on n-arrays and matrices in Python.\n",
    "\n",
    "#The following link contains the official website of the NumPy library: https://numpy.org/"
   ]
  },
  {
   "cell_type": "code",
   "execution_count": 3,
   "metadata": {},
   "outputs": [
    {
     "name": "stdout",
     "output_type": "stream",
     "text": [
      "Hello!\n"
     ]
    }
   ],
   "source": [
    "print('Hello!')"
   ]
  },
  {
   "cell_type": "code",
   "execution_count": 1,
   "metadata": {},
   "outputs": [],
   "source": [
    "import numpy as np \n",
    "# function array() creates an array \n",
    "# numpy.array(object, dtype=None, *, copy=True, order='K', subok=False, ndmin=0,like=None)\n",
    "a=np.array([1,2,3])"
   ]
  },
  {
   "cell_type": "code",
   "execution_count": 2,
   "metadata": {},
   "outputs": [
    {
     "name": "stdout",
     "output_type": "stream",
     "text": [
      "[1 2 3]\n"
     ]
    }
   ],
   "source": [
    "print(a)"
   ]
  },
  {
   "cell_type": "code",
   "execution_count": null,
   "metadata": {},
   "outputs": [],
   "source": [
    "#1-D Arrays\n",
    "#Example 1: Create an array a of 7 elements. Print size, shape\n",
    "# and dimension of an array a."
   ]
  },
  {
   "cell_type": "code",
   "execution_count": 13,
   "metadata": {},
   "outputs": [],
   "source": [
    "a = np.array([1, 2, 3, 4, 5, 6,7])"
   ]
  },
  {
   "cell_type": "code",
   "execution_count": 14,
   "metadata": {},
   "outputs": [
    {
     "name": "stdout",
     "output_type": "stream",
     "text": [
      "Array a:\n",
      "[1 2 3 4 5 6 7]\n"
     ]
    }
   ],
   "source": [
    "print('Array a:')\n",
    "print(a)"
   ]
  },
  {
   "cell_type": "code",
   "execution_count": 15,
   "metadata": {},
   "outputs": [
    {
     "name": "stdout",
     "output_type": "stream",
     "text": [
      "size of a:  7\n"
     ]
    }
   ],
   "source": [
    "print('size of a: ', a.size)"
   ]
  },
  {
   "cell_type": "code",
   "execution_count": 16,
   "metadata": {},
   "outputs": [
    {
     "name": "stdout",
     "output_type": "stream",
     "text": [
      "The array is of type: (7,)\n"
     ]
    }
   ],
   "source": [
    "print('The array is of shape:', a.shape)"
   ]
  },
  {
   "cell_type": "code",
   "execution_count": null,
   "metadata": {},
   "outputs": [],
   "source": [
    "print('The array has dimensions:', a.ndim)"
   ]
  },
  {
   "cell_type": "code",
   "execution_count": 17,
   "metadata": {},
   "outputs": [],
   "source": [
    "M = np.array([[2, 3, 7], [4, 9, 8]], dtype='float32')"
   ]
  },
  {
   "cell_type": "code",
   "execution_count": null,
   "metadata": {},
   "outputs": [],
   "source": [
    "#The NumPy package supports default types such as int_, float_, bool_ and complex_, \n",
    "#but also offers the ability to work with types of different ranges \n",
    "#and precision such as int8, int16, uint8, float32, float64, complex128,"
   ]
  },
  {
   "cell_type": "code",
   "execution_count": 4,
   "metadata": {},
   "outputs": [
    {
     "name": "stdout",
     "output_type": "stream",
     "text": [
      "Matrx M:\n",
      "[[2. 3. 7.]\n",
      " [4. 9. 8.]]\n",
      "shape = (2, 3)\n",
      "size = 6\n",
      "ndim = 2\n",
      "dtype = float32\n"
     ]
    }
   ],
   "source": [
    "M = np.array([[2, 3, 7], [4, 9, 8]], dtype='float32')\n",
    "print('Matrx M:')\n",
    "print(M)\n",
    "print('shape =', M.shape)\n",
    "print('size =', M.size)\n",
    "print('ndim =', M.ndim)\n",
    "print('dtype =', M.dtype)"
   ]
  },
  {
   "cell_type": "code",
   "execution_count": 18,
   "metadata": {},
   "outputs": [
    {
     "name": "stdout",
     "output_type": "stream",
     "text": [
      "[[2. 3. 7.]\n",
      " [4. 9. 8.]]\n"
     ]
    }
   ],
   "source": [
    "print(M)"
   ]
  },
  {
   "cell_type": "code",
   "execution_count": 19,
   "metadata": {},
   "outputs": [
    {
     "name": "stdout",
     "output_type": "stream",
     "text": [
      "[[[3 2 1]\n",
      "  [4 5 6]]\n",
      "\n",
      " [[3 2 1]\n",
      "  [4 5 6]]]\n"
     ]
    }
   ],
   "source": [
    "a3 = np.array([[[3,2,1], [4, 5, 6]], [[3,2,1], [4, 5, 6]]])\n",
    "\n",
    "print(a3)"
   ]
  },
  {
   "cell_type": "code",
   "execution_count": 22,
   "metadata": {},
   "outputs": [],
   "source": [
    "#join two arrays\n",
    "arr1 = np.array([1, 2, 3])\n",
    "\n",
    "arr2 = np.array([4, 5, 6])\n",
    "\n",
    "arr = np.concatenate((arr1, arr2))"
   ]
  },
  {
   "cell_type": "code",
   "execution_count": 23,
   "metadata": {},
   "outputs": [
    {
     "name": "stdout",
     "output_type": "stream",
     "text": [
      "[1 2 3 4 5 6]\n"
     ]
    }
   ],
   "source": [
    "print(arr)"
   ]
  },
  {
   "cell_type": "code",
   "execution_count": 5,
   "metadata": {},
   "outputs": [
    {
     "name": "stdout",
     "output_type": "stream",
     "text": [
      "[[1 4]\n",
      " [2 5]\n",
      " [3 6]]\n"
     ]
    }
   ],
   "source": [
    "#stack() method\n",
    "arr1 = np.array([1, 2, 3])\n",
    "\n",
    "arr2 = np.array([4, 5, 6])\n",
    "\n",
    "arr = np.stack((arr1, arr2), axis=1)\n",
    "\n",
    "print(arr)"
   ]
  },
  {
   "cell_type": "code",
   "execution_count": 6,
   "metadata": {},
   "outputs": [
    {
     "name": "stdout",
     "output_type": "stream",
     "text": [
      "[1 2 3 4 5 6]\n"
     ]
    }
   ],
   "source": [
    "arr1 = np.array([1, 2, 3])\n",
    "\n",
    "arr2 = np.array([4, 5, 6])\n",
    "\n",
    "arr = np.hstack((arr1, arr2))\n",
    "\n",
    "print(arr)"
   ]
  },
  {
   "cell_type": "code",
   "execution_count": 7,
   "metadata": {},
   "outputs": [
    {
     "name": "stdout",
     "output_type": "stream",
     "text": [
      "[[1 2 3]\n",
      " [4 5 6]]\n"
     ]
    }
   ],
   "source": [
    "arr1 = np.array([1, 2, 3])\n",
    "\n",
    "arr2 = np.array([4, 5, 6])\n",
    "\n",
    "arr = np.vstack((arr1, arr2))\n",
    "\n",
    "print(arr)"
   ]
  },
  {
   "cell_type": "code",
   "execution_count": 8,
   "metadata": {},
   "outputs": [
    {
     "name": "stdout",
     "output_type": "stream",
     "text": [
      "32\n",
      "1\n",
      "6\n",
      "[2 3]\n"
     ]
    }
   ],
   "source": [
    "x = np.array([1, 2, 3])\n",
    "\n",
    "y = np.array([4, 5, 6])\n",
    "#sum of elements of scalar product\n",
    "print(np.sum(x * y))\n",
    "# min element of an array x\n",
    "print(np.min(x))\n",
    "# the maximum element of an array y\n",
    "print(y.max())\n",
    "#elements of an array x that are greater than 1.5\n",
    "print(x[x > 1.5])"
   ]
  },
  {
   "cell_type": "code",
   "execution_count": 9,
   "metadata": {},
   "outputs": [
    {
     "name": "stdout",
     "output_type": "stream",
     "text": [
      "a7= [0. 0. 0. 0. 0. 0. 0. 0.]\n",
      "M1 =\n",
      " [[1. 1. 1.]\n",
      " [1. 1. 1.]]\n",
      "M2 =\n",
      " [[1. 0. 0.]\n",
      " [0. 1. 0.]\n",
      " [0. 0. 1.]]\n",
      "M3 =\n",
      " [[7 0 0 0]\n",
      " [0 3 0 0]\n",
      " [0 0 2 0]\n",
      " [0 0 0 1]]\n"
     ]
    }
   ],
   "source": [
    "#Create an array a7 consisting only of 8 zeros\n",
    "a7 = np.zeros(8)\n",
    "print('a7=',a7)\n",
    "\n",
    "#Create the matrix M_1 of dimension  $2 \\times 3$ consisting only of units\n",
    "M1 = np.ones((2, 3))\n",
    "print('M1 =\\n', M1)\n",
    "\n",
    "#Create unit matrix $ M_2 $ of dimension 3\n",
    "#the identity matrix (sometimes ambiguously called a unit matrix) of size n is the n × n square matrix with ones on the main diagonal and zeros elsewhere\n",
    "M2 = np.eye(3)\n",
    "print('M2 =\\n', M2)\n",
    "\n",
    "#create the iagonal matrix $ M_3 $ on whose main diagonal are the numbers 7, 3, 2 and 1.\n",
    "M3 = np.diag([7, 3, 2, 1])\n",
    "print('M3 =\\n', M3)\n",
    "\n"
   ]
  },
  {
   "cell_type": "code",
   "execution_count": 25,
   "metadata": {},
   "outputs": [
    {
     "name": "stdout",
     "output_type": "stream",
     "text": [
      "a4 = [[0.25349396 0.78961441]\n",
      " [0.70394364 0.29836764]]\n"
     ]
    }
   ],
   "source": [
    "a4 = np.random.random((2, 2)) \n",
    "print('a4 =', a4)"
   ]
  },
  {
   "cell_type": "code",
   "execution_count": 26,
   "metadata": {},
   "outputs": [
    {
     "name": "stdout",
     "output_type": "stream",
     "text": [
      "a5 = [4.57975698 3.04155587 2.54997153 2.00081114 3.08832114]\n"
     ]
    }
   ],
   "source": [
    "a5 = np.random.uniform(2, 5, 5)\n",
    "print('a5 =', a5)"
   ]
  },
  {
   "cell_type": "code",
   "execution_count": 30,
   "metadata": {},
   "outputs": [],
   "source": [
    "x=np.array([1, 2, 3])\n",
    "\n",
    "y= np.array([4, 5, 6])"
   ]
  },
  {
   "cell_type": "code",
   "execution_count": 33,
   "metadata": {},
   "outputs": [
    {
     "name": "stdout",
     "output_type": "stream",
     "text": [
      "Values from the third until the fourth element in the zero row: [4 5]\n"
     ]
    }
   ],
   "source": [
    "M = np.arange(25).reshape(5, 5) + 1\n",
    "print ('Values from the third until the fourth element in the zero row:', M [0,3: 5])\n"
   ]
  },
  {
   "cell_type": "code",
   "execution_count": 34,
   "metadata": {},
   "outputs": [
    {
     "name": "stdout",
     "output_type": "stream",
     "text": [
      "[[ 1  2  3  4  5]\n",
      " [ 6  7  8  9 10]\n",
      " [11 12 13 14 15]\n",
      " [16 17 18 19 20]\n",
      " [21 22 23 24 25]]\n"
     ]
    }
   ],
   "source": [
    "print(M)"
   ]
  },
  {
   "cell_type": "code",
   "execution_count": 35,
   "metadata": {},
   "outputs": [
    {
     "name": "stdout",
     "output_type": "stream",
     "text": [
      "Elements of every second row starting from the 2nd row and elements of every second column starting from the zero column: \\ n [[11 13 15]\n",
      " [21 23 25]]\n"
     ]
    }
   ],
   "source": [
    "print ('Elements of every second row starting from the 2nd row and elements of every second column starting from the zero column: \\ n',M[2::2,::2])"
   ]
  },
  {
   "cell_type": "code",
   "execution_count": 37,
   "metadata": {},
   "outputs": [
    {
     "name": "stdout",
     "output_type": "stream",
     "text": [
      "Elements with coordinates (0,2), (1,3), (2,4): [ 3  9 15]\n"
     ]
    }
   ],
   "source": [
    "print ('Elements with coordinates (0,2), (1,3), (2,4):', M[(0,1,2),(2,3,4)])"
   ]
  },
  {
   "cell_type": "code",
   "execution_count": 53,
   "metadata": {},
   "outputs": [
    {
     "name": "stdout",
     "output_type": "stream",
     "text": [
      "Hello!\n"
     ]
    }
   ],
   "source": [
    "print('Hello!')"
   ]
  },
  {
   "cell_type": "code",
   "execution_count": 54,
   "metadata": {},
   "outputs": [],
   "source": [
    "import numpy as np\n",
    "import matplotlib.pyplot as plt\n"
   ]
  },
  {
   "cell_type": "code",
   "execution_count": 55,
   "metadata": {},
   "outputs": [
    {
     "data": {
      "image/png": "[encoded data removed]",
      "text/plain": [
       "<Figure size 432x288 with 1 Axes>"
      ]
     },
     "metadata": {
      "needs_background": "light"
     },
     "output_type": "display_data"
    }
   ],
   "source": [
    "x = np.linspace (0, 10, 100)\n",
    "y = np.sin (x)\n",
    "\n",
    "# Adjust graphic titles and axis features\n",
    "plt.title ('Function graph y = sin (x)')\n",
    "plt.xlabel ('x')\n",
    "plt.ylabel ('y')\n",
    "\n",
    "# drawing graphics\n",
    "plt.plot (x, y)\n",
    "\n",
    "#view graphics\n",
    "plt.show ()"
   ]
  },
  {
   "cell_type": "code",
   "execution_count": 56,
   "metadata": {},
   "outputs": [
    {
     "data": {
      "image/png": "[encoded data removed]",
      "text/plain": [
       "<Figure size 432x288 with 1 Axes>"
      ]
     },
     "metadata": {
      "needs_background": "light"
     },
     "output_type": "display_data"
    }
   ],
   "source": [
    "x = np.linspace (-np.pi, np.pi, 100)\n",
    "y_sin = np.sin (x)\n",
    "y_cos = np.cos (x)\n",
    "\n",
    "# Draw functions with settings for display colors and features that will appear in the legend\n",
    "plt.plot (x, y_sin, label = 'sin', color = 'blue')\n",
    "plt.plot (x, y_cos, label = 'cos', color = 'green')\n",
    "\n",
    "# setting a legend\n",
    "plt.legend (loc = 'upper left')\n",
    "\n",
    "#view graphics\n",
    "plt.show ()"
   ]
  },
  {
   "cell_type": "code",
   "execution_count": null,
   "metadata": {},
   "outputs": [],
   "source": []
  }
 ],
 "metadata": {
  "kernelspec": {
   "display_name": "Python 3",
   "language": "python",
   "name": "python3"
  },
  "language_info": {
   "codemirror_mode": {
    "name": "ipython",
    "version": 3
   },
   "file_extension": ".py",
   "mimetype": "text/x-python",
   "name": "python",
   "nbconvert_exporter": "python",
   "pygments_lexer": "ipython3",
   "version": "3.7.3"
  }
 },
 "nbformat": 4,
 "nbformat_minor": 2
}
